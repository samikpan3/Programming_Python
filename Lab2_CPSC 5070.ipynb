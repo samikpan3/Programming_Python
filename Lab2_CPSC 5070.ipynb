{
 "cells": [
  {
   "cell_type": "markdown",
   "metadata": {},
   "source": [
    "This is Question 1: \n"
   ]
  },
  {
   "cell_type": "code",
   "execution_count": 15,
   "metadata": {},
   "outputs": [],
   "source": [
    "class Human:\n",
    "    def __init__(self, name,age):\n",
    "        self.name = name \n",
    "        self.age = age \n",
    "   \n",
    "    def info(self):\n",
    "        print (f \" {self.name}, \"is\", self.age)   \n",
    "        \n",
    "    def hobby(self):   \n",
    "        print (f\"{self.name} likes to watch movies\")\n",
    "    \n",
    "    def printAllData(self):   #Adding the function to ensure print function \n",
    "        self.info()\n",
    "        self.hobby()\n",
    "\n",
    "        \n",
    "\n"
   ]
  },
  {
   "cell_type": "markdown",
   "metadata": {},
   "source": [
    "Question number 2 :\n",
    "\n"
   ]
  },
  {
   "cell_type": "code",
   "execution_count": 16,
   "metadata": {},
   "outputs": [],
   "source": [
    "class Hiker(Human): \n",
    "       \n",
    "    def hobby(self):\n",
    "         print (f\"{self.name} likes going to hikes\")  #Overriding the hobby\n",
    "            \n",
    "   \n"
   ]
  },
  {
   "cell_type": "markdown",
   "metadata": {},
   "source": [
    "Question no 3"
   ]
  },
  {
   "cell_type": "code",
   "execution_count": 17,
   "metadata": {},
   "outputs": [],
   "source": [
    "class Scientist(Human):\n",
    "    def __init__(self,name,age,lab):\n",
    "        Human.__init__(self,name,age)    #inheriting the vlaue from Human class\n",
    "        self.lab = lab\n",
    "        \n",
    "    def hobby(self):   \n",
    "        print (f\"{self.name} likes doing scientific experiments\") #overriding the hobby\n",
    "    \n",
    "    def labName(self):\n",
    "        print (f\"{self.name} works at the {self.lab} lab\")  # adding a new method\n",
    "        \n",
    "    def printAllData(self):\n",
    "        self.info()\n",
    "        self.hobby()\n",
    "        self.labName()\n"
   ]
  },
  {
   "cell_type": "markdown",
   "metadata": {},
   "source": [
    "Question number 4\n"
   ]
  },
  {
   "cell_type": "code",
   "execution_count": 18,
   "metadata": {},
   "outputs": [],
   "source": [
    "class Swimmer(Human):\n",
    "    def __init__(self, name, age, hours):\n",
    "        Human.__init__(self, name, age)    #inheriting from human\n",
    "        self.hours = hours \n",
    "        \n",
    "    def hobby(self):\n",
    "        print (f\"{self.name} likes swimming \")      #override the value\n",
    "        \n",
    "    def hoursSwimming(self):\n",
    "        print (f\"{self.name} swims {self.hours} hours per week \")\n",
    "        \n",
    "    def printAllData(self):\n",
    "        self.info()\n",
    "        self.hobby()\n",
    "        self.hoursSwimming()     \n",
    "   "
   ]
  },
  {
   "cell_type": "markdown",
   "metadata": {},
   "source": [
    "Question 5 "
   ]
  },
  {
   "cell_type": "code",
   "execution_count": 19,
   "metadata": {},
   "outputs": [],
   "source": [
    "class ScientificSwimmer(Scientist, Swimmer):\n",
    "    def __init__(self, name, age,lab, hours):\n",
    "        Scientist.__init__(self, name, age, lab)   #inherit from scientist\n",
    "        Swimmer.__init__(self,name,age, hours)     # inherit from swimmer\n",
    "        \n",
    "    def hobby(self):\n",
    "        print (f\"{self.name} likes swimming and doing scientific experiments \")  \n",
    "        \n",
    "    def printAllData(self):\n",
    "        self.info()\n",
    "        self.hobby()\n",
    "        self.hoursSwimming()\n",
    "        self.labName()\n",
    "             \n",
    "   \n",
    "        \n",
    "        "
   ]
  },
  {
   "cell_type": "markdown",
   "metadata": {},
   "source": [
    "Question number 6"
   ]
  },
  {
   "cell_type": "code",
   "execution_count": 23,
   "metadata": {},
   "outputs": [
    {
     "name": "stdout",
     "output_type": "stream",
     "text": [
      "Please input the following: 1 for Human \n",
      " 2 for Hikers \n",
      " 3 for Scientists \n",
      " 4 for Swimmer \n",
      " 5 for Scientific Swimmer \n",
      " Please type q for quit\n",
      "1\n",
      "Your name here: poiu\n",
      "Your age here: 44\n",
      "_______________________\n",
      "Please input the following: 1 for Human \n",
      " 2 for Hikers \n",
      " 3 for Scientists \n",
      " 4 for Swimmer \n",
      " 5 for Scientific Swimmer \n",
      " Please type q for quit\n",
      "5\n",
      "Your name here: poiunt\n",
      "Your age here: 88\n",
      "Your lab Name here: oiut\n",
      "Your weekly hours of swim here: 1\n",
      "_______________________\n",
      "Please input the following: 1 for Human \n",
      " 2 for Hikers \n",
      " 3 for Scientists \n",
      " 4 for Swimmer \n",
      " 5 for Scientific Swimmer \n",
      " Please type q for quit\n",
      "q\n",
      "Poiu is 44\n",
      "Poiu likes to watch movies\n",
      "--------------\n",
      "Poiunt is 88\n",
      "Poiunt likes swimming and doing scientific experiments \n",
      "Poiunt swims 1 hours per week \n",
      " Poiunt works at the oiut lab\n",
      "--------------\n"
     ]
    }
   ],
   "source": [
    "allobjects = []     #Creating a dictinory to add the output to print later \n",
    "         #creating functions for each input options \n",
    "def get_human_info_and_store(): \n",
    "    name = input(\"Your name here: \").title()   #Title to print the name in capital letter\n",
    "    age = input(\"Your age here: \")\n",
    "    human = Human(name, age)     #passing the object created to class\n",
    "    allobjects.append(human)      #appending the list created for later use\n",
    "    \n",
    "def get_hiker_info_and_store(): \n",
    "    name = input(\"Your name here: \").title()\n",
    "    age = input(\"Your age here: \")\n",
    "    hiker = Hiker(name, age)\n",
    "    allobjects.append(hiker) \n",
    "     \n",
    "def get_scientist_info_and_store():\n",
    "        name = input(\"Your name here: \").title()\n",
    "        age = input(\"Your age here: \")\n",
    "        lab = input (\"Your lab Name here: \")\n",
    "        scientist = Scientist(name,age,lab)\n",
    "        allobjects.append(scientist)  \n",
    "    \n",
    "def get_swimmer_info_and_store(): \n",
    "    name = input(\"Your name here: \").title()\n",
    "    age = input(\"Your age here: \")\n",
    "    hours = input (\"Your weekly hours of swim here: \")\n",
    "    swimmer = Swimmer(name, age, hours)\n",
    "    allobjects.append(swimmer) \n",
    "    \n",
    "def get_scientificswimmer_info_and_store(): \n",
    "    name = input(\"Your name here: \").title()\n",
    "    age = input(\"Your age here: \")\n",
    "    lab = input (\"Your lab Name here: \")\n",
    "    hours = input (\"Your weekly hours of swim here: \")\n",
    "    scientificswimmer =  ScientificSwimmer(name, age, lab, hours)\n",
    "    allobjects.append(scientificswimmer) \n",
    "    \n",
    "### Creating the main function to intake input from user\n",
    "def main():     \n",
    "    \n",
    "    while True:\n",
    "        choice_list = (\"1\", \"2\", \"3\", \"4\", \"5\", \"q\") #ensure that the loop works only if the input is within the choice list provided. The loop will continue if input is not within the given choice list. \n",
    "        print (\"Please input the following: 1 for Human \\n 2 for Hikers \\n 3 for Scientists \\n 4 for Swimmer \\n 5 for Scientific Swimmer \\n Please type q for quit\")\n",
    "        n = input().lower() \n",
    "        if n in choice_list:   \n",
    "\n",
    "            if n == \"q\":\n",
    "                break\n",
    "            elif n == \"1\":\n",
    "                get_human_info_and_store()\n",
    "            elif n == \"2\":\n",
    "                get_hiker_info_and_store()\n",
    "            elif n == \"3\":\n",
    "                get_scientist_info_and_store()                  \n",
    "           \n",
    "            elif n == \"4\":\n",
    "                get_swimmer_info_and_store()\n",
    "            elif n == \"5\":\n",
    "                get_scientificswimmer_info_and_store()\n",
    "            print (\"_______________________\")  \n",
    "            \n",
    "        else:\n",
    "            continue\n",
    "        \n",
    "    for o in allobjects:\n",
    "        o.printAllData() \n",
    "        print (\"--------------\")\n",
    "        \n",
    "main()\n",
    "\n"
   ]
  },
  {
   "cell_type": "code",
   "execution_count": null,
   "metadata": {},
   "outputs": [],
   "source": []
  }
 ],
 "metadata": {
  "kernelspec": {
   "display_name": "Python 3",
   "language": "python",
   "name": "python3"
  },
  "language_info": {
   "codemirror_mode": {
    "name": "ipython",
    "version": 3
   },
   "file_extension": ".py",
   "mimetype": "text/x-python",
   "name": "python",
   "nbconvert_exporter": "python",
   "pygments_lexer": "ipython3",
   "version": "3.8.5"
  }
 },
 "nbformat": 4,
 "nbformat_minor": 4
}
