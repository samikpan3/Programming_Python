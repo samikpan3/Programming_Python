{
 "cells": [
  {
   "cell_type": "markdown",
   "metadata": {},
   "source": [
    "## Lab 6\n",
    "## Author:Samikshya Pandey"
   ]
  },
  {
   "cell_type": "code",
   "execution_count": 1,
   "metadata": {},
   "outputs": [],
   "source": [
    "#Calling pandas and numpy \n",
    "import pandas as pd\n",
    "import numpy as np"
   ]
  },
  {
   "cell_type": "code",
   "execution_count": null,
   "metadata": {},
   "outputs": [],
   "source": []
  },
  {
   "cell_type": "code",
   "execution_count": 2,
   "metadata": {},
   "outputs": [
    {
     "name": "stdout",
     "output_type": "stream",
     "text": [
      "<class 'pandas.core.frame.DataFrame'>\n",
      "RangeIndex: 8807 entries, 0 to 8806\n",
      "Data columns (total 12 columns):\n",
      " #   Column        Non-Null Count  Dtype \n",
      "---  ------        --------------  ----- \n",
      " 0   show_id       8807 non-null   object\n",
      " 1   type          8807 non-null   object\n",
      " 2   title         8807 non-null   object\n",
      " 3   director      6173 non-null   object\n",
      " 4   cast          7982 non-null   object\n",
      " 5   country       7976 non-null   object\n",
      " 6   date_added    8797 non-null   object\n",
      " 7   release_year  8807 non-null   int64 \n",
      " 8   rating        8803 non-null   object\n",
      " 9   duration      8804 non-null   object\n",
      " 10  listed_in     8807 non-null   object\n",
      " 11  description   8807 non-null   object\n",
      "dtypes: int64(1), object(11)\n",
      "memory usage: 825.8+ KB\n"
     ]
    }
   ],
   "source": [
    "#Reading the files to the value\n",
    "netflix_title = pd.read_csv(\"netflix_titles.csv\")\n",
    "netflix_title.head()\n",
    "netflix_title.info()\n"
   ]
  },
  {
   "cell_type": "markdown",
   "metadata": {},
   "source": [
    "### Question 1 \n"
   ]
  },
  {
   "cell_type": "code",
   "execution_count": 3,
   "metadata": {
    "scrolled": true
   },
   "outputs": [
    {
     "data": {
      "text/plain": [
       "show_id            0\n",
       "type               0\n",
       "title              0\n",
       "director        2634\n",
       "cast             825\n",
       "country          831\n",
       "date_added        10\n",
       "release_year       0\n",
       "rating             4\n",
       "duration           3\n",
       "listed_in          0\n",
       "description        0\n",
       "dtype: int64"
      ]
     },
     "execution_count": 3,
     "metadata": {},
     "output_type": "execute_result"
    }
   ],
   "source": [
    "#Finding number of missing values in each column \n",
    "\n",
    "netflix_title.isna().sum()"
   ]
  },
  {
   "cell_type": "markdown",
   "metadata": {},
   "source": [
    "There are 2634 missing values for director, 825 for cast and 831 for country. Rating has 4 missing value and duration has 3 missing values. \n"
   ]
  },
  {
   "cell_type": "markdown",
   "metadata": {},
   "source": [
    "### Question 2\n",
    "Remove the rows which have empty value for the column “director\""
   ]
  },
  {
   "cell_type": "code",
   "execution_count": 4,
   "metadata": {},
   "outputs": [
    {
     "data": {
      "text/plain": [
       "show_id           0\n",
       "type              0\n",
       "title             0\n",
       "director          0\n",
       "cast            473\n",
       "country         422\n",
       "date_added        0\n",
       "release_year      0\n",
       "rating            1\n",
       "duration          3\n",
       "listed_in         0\n",
       "description       0\n",
       "dtype: int64"
      ]
     },
     "execution_count": 4,
     "metadata": {},
     "output_type": "execute_result"
    }
   ],
   "source": [
    "netflix_title = netflix_title.dropna(subset =['director'])\n",
    "netflix_title.isna().sum()  #confirming to see that director has no missing value as we dropped as na values"
   ]
  },
  {
   "cell_type": "markdown",
   "metadata": {},
   "source": [
    "### Question 3\n",
    "Replace the missing value in the column “ratings” with the mode of the column’s values.\n"
   ]
  },
  {
   "cell_type": "code",
   "execution_count": 5,
   "metadata": {},
   "outputs": [],
   "source": [
    "#netflix_title.head()"
   ]
  },
  {
   "cell_type": "code",
   "execution_count": 6,
   "metadata": {},
   "outputs": [
    {
     "name": "stdout",
     "output_type": "stream",
     "text": [
      "['PG-13' 'TV-MA' 'PG' 'TV-14' 'TV-PG' 'TV-Y' 'R' 'TV-G' 'TV-Y7' 'G'\n",
      " 'NC-17' '74 min' '84 min' '66 min' 'NR' 'TV-Y7-FV' 'UR' nan]\n",
      "-----\n",
      "TV-MA       2117\n",
      "TV-14       1457\n",
      "R            795\n",
      "TV-PG        538\n",
      "PG-13        489\n",
      "PG           286\n",
      "TV-Y7        132\n",
      "TV-G         118\n",
      "TV-Y         112\n",
      "NR            75\n",
      "G             41\n",
      "TV-Y7-FV       4\n",
      "UR             3\n",
      "NC-17          2\n",
      "84 min         1\n",
      "74 min         1\n",
      "66 min         1\n",
      "Name: rating, dtype: int64\n"
     ]
    }
   ],
   "source": [
    "print(netflix_title[\"rating\"].unique())\n",
    "print(\"-----\")\n",
    "#Looking at the unique values. Counting the values within the column.\n",
    "#Mode is the most frequent value so value count lists us the mode value of the rating column\n",
    "print(netflix_title[\"rating\"].value_counts() )"
   ]
  },
  {
   "cell_type": "code",
   "execution_count": null,
   "metadata": {},
   "outputs": [],
   "source": []
  },
  {
   "cell_type": "markdown",
   "metadata": {},
   "source": [
    " #From value counts we know that the most frequent value is TV-MA. So replacing the missing values with \"TV-MA\" "
   ]
  },
  {
   "cell_type": "code",
   "execution_count": 7,
   "metadata": {},
   "outputs": [
    {
     "data": {
      "text/plain": [
       "TV-MA       2118\n",
       "TV-14       1457\n",
       "R            795\n",
       "TV-PG        538\n",
       "PG-13        489\n",
       "PG           286\n",
       "TV-Y7        132\n",
       "TV-G         118\n",
       "TV-Y         112\n",
       "NR            75\n",
       "G             41\n",
       "TV-Y7-FV       4\n",
       "UR             3\n",
       "NC-17          2\n",
       "84 min         1\n",
       "74 min         1\n",
       "66 min         1\n",
       "Name: rating, dtype: int64"
      ]
     },
     "execution_count": 7,
     "metadata": {},
     "output_type": "execute_result"
    }
   ],
   "source": [
    "netflix_title[\"rating\"] = netflix_title[\"rating\"].fillna(\"TV-MA\")\n",
    "netflix_title[\"rating\"].value_counts() \n",
    "#From the value counts before replacing it with TV-MA, we know that there was 2117 values for TV-MA and now there is 2118, so 1 missing value in rating is replaced with mode.  "
   ]
  },
  {
   "cell_type": "markdown",
   "metadata": {},
   "source": [
    "### Question 4\n",
    "Remove the rows which have empty value for the column “duration”. "
   ]
  },
  {
   "cell_type": "code",
   "execution_count": 8,
   "metadata": {},
   "outputs": [
    {
     "data": {
      "text/plain": [
       "show_id           0\n",
       "type              0\n",
       "title             0\n",
       "director          0\n",
       "cast            473\n",
       "country         422\n",
       "date_added        0\n",
       "release_year      0\n",
       "rating            0\n",
       "duration          0\n",
       "listed_in         0\n",
       "description       0\n",
       "dtype: int64"
      ]
     },
     "execution_count": 8,
     "metadata": {},
     "output_type": "execute_result"
    }
   ],
   "source": [
    "netflix_title = netflix_title.dropna(subset =['duration'])\n",
    "netflix_title.isna().sum() #Confirming that the missing values for duration which was 3 was dropped. "
   ]
  },
  {
   "cell_type": "markdown",
   "metadata": {},
   "source": [
    "### Question 5.\n",
    "Take only movies from the dataset and extract the numeric values from the “duration” \n",
    "column. Save the extracted data in a new column “minutes”. For example, if a movie’s \n",
    "duration is “100 minutes”, then the value of its “minutes” should be 100."
   ]
  },
  {
   "cell_type": "code",
   "execution_count": 9,
   "metadata": {},
   "outputs": [
    {
     "name": "stdout",
     "output_type": "stream",
     "text": [
      "['Movie']\n"
     ]
    },
    {
     "name": "stderr",
     "output_type": "stream",
     "text": [
      "<ipython-input-9-77eaaa6cb0dc>:3: SettingWithCopyWarning: \n",
      "A value is trying to be set on a copy of a slice from a DataFrame.\n",
      "Try using .loc[row_indexer,col_indexer] = value instead\n",
      "\n",
      "See the caveats in the documentation: https://pandas.pydata.org/pandas-docs/stable/user_guide/indexing.html#returning-a-view-versus-a-copy\n",
      "  duration_frame[\"minutes\"] = duration_frame[\"duration\"].str.split(\" \").str[0].astype(int)\n"
     ]
    }
   ],
   "source": [
    "duration_frame = netflix_title.loc[netflix_title[\"type\"] ==\"Movie\"] #first creating a new dataframe that has type listed as movie only.\n",
    "print(duration_frame[\"type\"].unique()) #Confirming that only unique values are left. \n",
    "duration_frame[\"minutes\"] = duration_frame[\"duration\"].str.split(\" \").str[0].astype(int)\n",
    "duration_frame[\"minutes\"].head(10)\n"
   ]
  },
  {
   "cell_type": "markdown",
   "metadata": {},
   "source": [
    "### Question 6 : A \n",
    "\n",
    "Finding the number values > 50 and greater than 150 as outliers"
   ]
  },
  {
   "cell_type": "code",
   "execution_count": 10,
   "metadata": {
    "scrolled": false
   },
   "outputs": [
    {
     "data": {
      "text/plain": [
       "False    5480\n",
       "True      460\n",
       "Name: minutes, dtype: int64"
      ]
     },
     "execution_count": 10,
     "metadata": {},
     "output_type": "execute_result"
    }
   ],
   "source": [
    "outliers = (duration_frame[\"minutes\"] <50) | (duration_frame[\"minutes\"] > 150)\n",
    "outliers.value_counts()\n",
    "\n",
    "\n"
   ]
  },
  {
   "cell_type": "markdown",
   "metadata": {},
   "source": [
    "There are 460 outlier values i.e who value is either less than 50 or more than 150. "
   ]
  },
  {
   "cell_type": "markdown",
   "metadata": {},
   "source": [
    "### Question 6 : B \n",
    "\n",
    "Filter out Outliers"
   ]
  },
  {
   "cell_type": "code",
   "execution_count": 11,
   "metadata": {},
   "outputs": [
    {
     "data": {
      "text/html": [
       "<div>\n",
       "<style scoped>\n",
       "    .dataframe tbody tr th:only-of-type {\n",
       "        vertical-align: middle;\n",
       "    }\n",
       "\n",
       "    .dataframe tbody tr th {\n",
       "        vertical-align: top;\n",
       "    }\n",
       "\n",
       "    .dataframe thead th {\n",
       "        text-align: right;\n",
       "    }\n",
       "</style>\n",
       "<table border=\"1\" class=\"dataframe\">\n",
       "  <thead>\n",
       "    <tr style=\"text-align: right;\">\n",
       "      <th></th>\n",
       "      <th>show_id</th>\n",
       "      <th>type</th>\n",
       "      <th>title</th>\n",
       "      <th>director</th>\n",
       "      <th>cast</th>\n",
       "      <th>country</th>\n",
       "      <th>date_added</th>\n",
       "      <th>release_year</th>\n",
       "      <th>rating</th>\n",
       "      <th>duration</th>\n",
       "      <th>listed_in</th>\n",
       "      <th>description</th>\n",
       "      <th>minutes</th>\n",
       "    </tr>\n",
       "  </thead>\n",
       "  <tbody>\n",
       "    <tr>\n",
       "      <th>0</th>\n",
       "      <td>s1</td>\n",
       "      <td>Movie</td>\n",
       "      <td>Dick Johnson Is Dead</td>\n",
       "      <td>Kirsten Johnson</td>\n",
       "      <td>NaN</td>\n",
       "      <td>United States</td>\n",
       "      <td>September 25, 2021</td>\n",
       "      <td>2020</td>\n",
       "      <td>PG-13</td>\n",
       "      <td>90 min</td>\n",
       "      <td>Documentaries</td>\n",
       "      <td>As her father nears the end of his life, filmm...</td>\n",
       "      <td>90</td>\n",
       "    </tr>\n",
       "    <tr>\n",
       "      <th>6</th>\n",
       "      <td>s7</td>\n",
       "      <td>Movie</td>\n",
       "      <td>My Little Pony: A New Generation</td>\n",
       "      <td>Robert Cullen, José Luis Ucha</td>\n",
       "      <td>Vanessa Hudgens, Kimiko Glenn, James Marsden, ...</td>\n",
       "      <td>NaN</td>\n",
       "      <td>September 24, 2021</td>\n",
       "      <td>2021</td>\n",
       "      <td>PG</td>\n",
       "      <td>91 min</td>\n",
       "      <td>Children &amp; Family Movies</td>\n",
       "      <td>Equestria's divided. But a bright-eyed hero be...</td>\n",
       "      <td>91</td>\n",
       "    </tr>\n",
       "    <tr>\n",
       "      <th>7</th>\n",
       "      <td>s8</td>\n",
       "      <td>Movie</td>\n",
       "      <td>Sankofa</td>\n",
       "      <td>Haile Gerima</td>\n",
       "      <td>Kofi Ghanaba, Oyafunmike Ogunlano, Alexandra D...</td>\n",
       "      <td>United States, Ghana, Burkina Faso, United Kin...</td>\n",
       "      <td>September 24, 2021</td>\n",
       "      <td>1993</td>\n",
       "      <td>TV-MA</td>\n",
       "      <td>125 min</td>\n",
       "      <td>Dramas, Independent Movies, International Movies</td>\n",
       "      <td>On a photo shoot in Ghana, an American model s...</td>\n",
       "      <td>125</td>\n",
       "    </tr>\n",
       "    <tr>\n",
       "      <th>9</th>\n",
       "      <td>s10</td>\n",
       "      <td>Movie</td>\n",
       "      <td>The Starling</td>\n",
       "      <td>Theodore Melfi</td>\n",
       "      <td>Melissa McCarthy, Chris O'Dowd, Kevin Kline, T...</td>\n",
       "      <td>United States</td>\n",
       "      <td>September 24, 2021</td>\n",
       "      <td>2021</td>\n",
       "      <td>PG-13</td>\n",
       "      <td>104 min</td>\n",
       "      <td>Comedies, Dramas</td>\n",
       "      <td>A woman adjusting to life after a loss contend...</td>\n",
       "      <td>104</td>\n",
       "    </tr>\n",
       "    <tr>\n",
       "      <th>12</th>\n",
       "      <td>s13</td>\n",
       "      <td>Movie</td>\n",
       "      <td>Je Suis Karl</td>\n",
       "      <td>Christian Schwochow</td>\n",
       "      <td>Luna Wedler, Jannis Niewöhner, Milan Peschel, ...</td>\n",
       "      <td>Germany, Czech Republic</td>\n",
       "      <td>September 23, 2021</td>\n",
       "      <td>2021</td>\n",
       "      <td>TV-MA</td>\n",
       "      <td>127 min</td>\n",
       "      <td>Dramas, International Movies</td>\n",
       "      <td>After most of her family is murdered in a terr...</td>\n",
       "      <td>127</td>\n",
       "    </tr>\n",
       "  </tbody>\n",
       "</table>\n",
       "</div>"
      ],
      "text/plain": [
       "   show_id   type                             title  \\\n",
       "0       s1  Movie              Dick Johnson Is Dead   \n",
       "6       s7  Movie  My Little Pony: A New Generation   \n",
       "7       s8  Movie                           Sankofa   \n",
       "9      s10  Movie                      The Starling   \n",
       "12     s13  Movie                      Je Suis Karl   \n",
       "\n",
       "                         director  \\\n",
       "0                 Kirsten Johnson   \n",
       "6   Robert Cullen, José Luis Ucha   \n",
       "7                    Haile Gerima   \n",
       "9                  Theodore Melfi   \n",
       "12            Christian Schwochow   \n",
       "\n",
       "                                                 cast  \\\n",
       "0                                                 NaN   \n",
       "6   Vanessa Hudgens, Kimiko Glenn, James Marsden, ...   \n",
       "7   Kofi Ghanaba, Oyafunmike Ogunlano, Alexandra D...   \n",
       "9   Melissa McCarthy, Chris O'Dowd, Kevin Kline, T...   \n",
       "12  Luna Wedler, Jannis Niewöhner, Milan Peschel, ...   \n",
       "\n",
       "                                              country          date_added  \\\n",
       "0                                       United States  September 25, 2021   \n",
       "6                                                 NaN  September 24, 2021   \n",
       "7   United States, Ghana, Burkina Faso, United Kin...  September 24, 2021   \n",
       "9                                       United States  September 24, 2021   \n",
       "12                            Germany, Czech Republic  September 23, 2021   \n",
       "\n",
       "    release_year rating duration  \\\n",
       "0           2020  PG-13   90 min   \n",
       "6           2021     PG   91 min   \n",
       "7           1993  TV-MA  125 min   \n",
       "9           2021  PG-13  104 min   \n",
       "12          2021  TV-MA  127 min   \n",
       "\n",
       "                                           listed_in  \\\n",
       "0                                      Documentaries   \n",
       "6                           Children & Family Movies   \n",
       "7   Dramas, Independent Movies, International Movies   \n",
       "9                                   Comedies, Dramas   \n",
       "12                      Dramas, International Movies   \n",
       "\n",
       "                                          description  minutes  \n",
       "0   As her father nears the end of his life, filmm...       90  \n",
       "6   Equestria's divided. But a bright-eyed hero be...       91  \n",
       "7   On a photo shoot in Ghana, an American model s...      125  \n",
       "9   A woman adjusting to life after a loss contend...      104  \n",
       "12  After most of her family is murdered in a terr...      127  "
      ]
     },
     "execution_count": 11,
     "metadata": {},
     "output_type": "execute_result"
    }
   ],
   "source": [
    "duration_frame = duration_frame.loc[(duration_frame[\"minutes\"]>50) & (duration_frame[\"minutes\"]<150)]\n",
    "duration_frame.head()\n"
   ]
  },
  {
   "cell_type": "code",
   "execution_count": 12,
   "metadata": {},
   "outputs": [],
   "source": [
    "#Confirming that the outlier is filtered out from the dataset. "
   ]
  },
  {
   "cell_type": "code",
   "execution_count": 13,
   "metadata": {
    "scrolled": true
   },
   "outputs": [
    {
     "name": "stdout",
     "output_type": "stream",
     "text": [
      "149 51\n"
     ]
    }
   ],
   "source": [
    "max_minutes = duration_frame[\"minutes\"].max()\n",
    "min_minutes = duration_frame[\"minutes\"].min()\n",
    "print(max_minutes, min_minutes) \n"
   ]
  },
  {
   "cell_type": "markdown",
   "metadata": {},
   "source": [
    "So in the dataset above, we can see that thw maximum value for the minutes value is 149 and minimum value is 51 which means it dropped all the outliers from the duration_frame set."
   ]
  },
  {
   "cell_type": "markdown",
   "metadata": {},
   "source": [
    "### Question 7 "
   ]
  },
  {
   "cell_type": "code",
   "execution_count": 14,
   "metadata": {},
   "outputs": [],
   "source": [
    "title = pd.read_csv(\"netflix_titles.csv\")  #importing the dataset again \n",
    "original = pd.read_csv(\"netflix_originals.csv\")  #importing another dataset\n"
   ]
  },
  {
   "cell_type": "code",
   "execution_count": 15,
   "metadata": {},
   "outputs": [
    {
     "name": "stdout",
     "output_type": "stream",
     "text": [
      "<class 'pandas.core.frame.DataFrame'>\n",
      "RangeIndex: 8807 entries, 0 to 8806\n",
      "Data columns (total 12 columns):\n",
      " #   Column        Non-Null Count  Dtype \n",
      "---  ------        --------------  ----- \n",
      " 0   show_id       8807 non-null   object\n",
      " 1   type          8807 non-null   object\n",
      " 2   title         8807 non-null   object\n",
      " 3   director      6173 non-null   object\n",
      " 4   cast          7982 non-null   object\n",
      " 5   country       7976 non-null   object\n",
      " 6   date_added    8797 non-null   object\n",
      " 7   release_year  8807 non-null   int64 \n",
      " 8   rating        8803 non-null   object\n",
      " 9   duration      8804 non-null   object\n",
      " 10  listed_in     8807 non-null   object\n",
      " 11  description   8807 non-null   object\n",
      "dtypes: int64(1), object(11)\n",
      "memory usage: 825.8+ KB\n",
      "<class 'pandas.core.frame.DataFrame'>\n",
      "RangeIndex: 1517 entries, 0 to 1516\n",
      "Data columns (total 10 columns):\n",
      " #   Column       Non-Null Count  Dtype  \n",
      "---  ------       --------------  -----  \n",
      " 0   titles       1517 non-null   object \n",
      " 1   years        1517 non-null   int64  \n",
      " 2   genres       1516 non-null   object \n",
      " 3   imdb         1512 non-null   float64\n",
      " 4   runtime      1276 non-null   object \n",
      " 5   description  1517 non-null   object \n",
      " 6   stars        1489 non-null   object \n",
      " 7   votes        1516 non-null   object \n",
      " 8   type         1517 non-null   object \n",
      " 9   original     1517 non-null   object \n",
      "dtypes: float64(1), int64(1), object(8)\n",
      "memory usage: 118.6+ KB\n",
      "None None\n"
     ]
    }
   ],
   "source": [
    "print(title.info(), original.info())\n"
   ]
  },
  {
   "cell_type": "code",
   "execution_count": 16,
   "metadata": {
    "scrolled": true
   },
   "outputs": [],
   "source": [
    "## Titles needs to be case insenstive, strip of white spaces and removed punctuation\n",
    "\n",
    "title[\"title\"] = title[\"title\"].str.lower().str.strip() #not case sensitive & strip from white spaces\n",
    "punc_strip= lambda x: x.replace(r'[^\\w\\s]+', '')   #Function to remove the punctuations\n",
    "title[\"title\"] = title[\"title\"].apply(punc_strip)   #applyign function to the title\n",
    "#print(title[\"title\"].unique())\n",
    "\n",
    "#print(original.head())\n",
    "original[\"titles\"] = original[\"titles\"].str.lower().str.strip()\n",
    "original[\"titles\"] = original[\"titles\"].apply(punc_strip)\n",
    "\n"
   ]
  },
  {
   "cell_type": "code",
   "execution_count": 17,
   "metadata": {},
   "outputs": [
    {
     "data": {
      "text/html": [
       "<div>\n",
       "<style scoped>\n",
       "    .dataframe tbody tr th:only-of-type {\n",
       "        vertical-align: middle;\n",
       "    }\n",
       "\n",
       "    .dataframe tbody tr th {\n",
       "        vertical-align: top;\n",
       "    }\n",
       "\n",
       "    .dataframe thead th {\n",
       "        text-align: right;\n",
       "    }\n",
       "</style>\n",
       "<table border=\"1\" class=\"dataframe\">\n",
       "  <thead>\n",
       "    <tr style=\"text-align: right;\">\n",
       "      <th></th>\n",
       "      <th>title</th>\n",
       "      <th>release_year</th>\n",
       "      <th>genres</th>\n",
       "      <th>imdb</th>\n",
       "      <th>runtime</th>\n",
       "      <th>description</th>\n",
       "      <th>stars</th>\n",
       "      <th>votes</th>\n",
       "      <th>type</th>\n",
       "      <th>original</th>\n",
       "    </tr>\n",
       "  </thead>\n",
       "  <tbody>\n",
       "    <tr>\n",
       "      <th>0</th>\n",
       "      <td>zumbo's just desserts</td>\n",
       "      <td>2016</td>\n",
       "      <td>Reality-TV</td>\n",
       "      <td>6.9</td>\n",
       "      <td>52 min</td>\n",
       "      <td>Amateur Australian chefs compete to impress pa...</td>\n",
       "      <td>Gigi Falanga, Rachel Khoo, Adriano Zumbo</td>\n",
       "      <td>1,779</td>\n",
       "      <td>TV Show</td>\n",
       "      <td>Netflix</td>\n",
       "    </tr>\n",
       "    <tr>\n",
       "      <th>1</th>\n",
       "      <td>zona rosa</td>\n",
       "      <td>2019</td>\n",
       "      <td>Comedy</td>\n",
       "      <td>6.0</td>\n",
       "      <td>NaN</td>\n",
       "      <td>Add a Plot</td>\n",
       "      <td>Ray Contreras, Pablo Morán, Manu Nna, Ana Juli...</td>\n",
       "      <td>33</td>\n",
       "      <td>TV Show</td>\n",
       "      <td>Netflix</td>\n",
       "    </tr>\n",
       "    <tr>\n",
       "      <th>2</th>\n",
       "      <td>young wallander</td>\n",
       "      <td>2020</td>\n",
       "      <td>Crime, Drama, Mystery</td>\n",
       "      <td>6.7</td>\n",
       "      <td>NaN</td>\n",
       "      <td>Follow recently graduated police officer Kurt ...</td>\n",
       "      <td>Adam Pålsson, Leanne Best, Richard Dillane, El...</td>\n",
       "      <td>5,419</td>\n",
       "      <td>TV Show</td>\n",
       "      <td>Netflix</td>\n",
       "    </tr>\n",
       "    <tr>\n",
       "      <th>3</th>\n",
       "      <td>you vs. wild</td>\n",
       "      <td>2019</td>\n",
       "      <td>Adventure, Reality-TV</td>\n",
       "      <td>6.7</td>\n",
       "      <td>20 min</td>\n",
       "      <td>In this interactive series, you'll make key de...</td>\n",
       "      <td>Bear Grylls</td>\n",
       "      <td>1,977</td>\n",
       "      <td>TV Show</td>\n",
       "      <td>Netflix</td>\n",
       "    </tr>\n",
       "    <tr>\n",
       "      <th>4</th>\n",
       "      <td>you</td>\n",
       "      <td>2018</td>\n",
       "      <td>Crime, Drama, Romance</td>\n",
       "      <td>7.8</td>\n",
       "      <td>45 min</td>\n",
       "      <td>A dangerously charming, intensely obsessive yo...</td>\n",
       "      <td>Penn Badgley, Victoria Pedretti, Ambyr Childer...</td>\n",
       "      <td>134,932</td>\n",
       "      <td>TV Show</td>\n",
       "      <td>Netflix</td>\n",
       "    </tr>\n",
       "  </tbody>\n",
       "</table>\n",
       "</div>"
      ],
      "text/plain": [
       "                   title  release_year                 genres  imdb runtime  \\\n",
       "0  zumbo's just desserts          2016             Reality-TV   6.9  52 min   \n",
       "1              zona rosa          2019                 Comedy   6.0     NaN   \n",
       "2        young wallander          2020  Crime, Drama, Mystery   6.7     NaN   \n",
       "3           you vs. wild          2019  Adventure, Reality-TV   6.7  20 min   \n",
       "4                    you          2018  Crime, Drama, Romance   7.8  45 min   \n",
       "\n",
       "                                         description  \\\n",
       "0  Amateur Australian chefs compete to impress pa...   \n",
       "1                                         Add a Plot   \n",
       "2  Follow recently graduated police officer Kurt ...   \n",
       "3  In this interactive series, you'll make key de...   \n",
       "4  A dangerously charming, intensely obsessive yo...   \n",
       "\n",
       "                                               stars    votes     type  \\\n",
       "0           Gigi Falanga, Rachel Khoo, Adriano Zumbo    1,779  TV Show   \n",
       "1  Ray Contreras, Pablo Morán, Manu Nna, Ana Juli...       33  TV Show   \n",
       "2  Adam Pålsson, Leanne Best, Richard Dillane, El...    5,419  TV Show   \n",
       "3                                        Bear Grylls    1,977  TV Show   \n",
       "4  Penn Badgley, Victoria Pedretti, Ambyr Childer...  134,932  TV Show   \n",
       "\n",
       "  original  \n",
       "0  Netflix  \n",
       "1  Netflix  \n",
       "2  Netflix  \n",
       "3  Netflix  \n",
       "4  Netflix  "
      ]
     },
     "execution_count": 17,
     "metadata": {},
     "output_type": "execute_result"
    }
   ],
   "source": [
    "#original.head(20) #Confirming that functions worked on the original and title dataset\n",
    "#print(title.head())\n",
    "\n",
    "original = original.rename(columns={'titles': 'title', 'years': 'release_year'}) \n",
    "original.head()   #Confirming that the column name are changed.\n"
   ]
  },
  {
   "cell_type": "code",
   "execution_count": null,
   "metadata": {},
   "outputs": [],
   "source": []
  },
  {
   "cell_type": "code",
   "execution_count": 18,
   "metadata": {},
   "outputs": [
    {
     "data": {
      "text/html": [
       "<div>\n",
       "<style scoped>\n",
       "    .dataframe tbody tr th:only-of-type {\n",
       "        vertical-align: middle;\n",
       "    }\n",
       "\n",
       "    .dataframe tbody tr th {\n",
       "        vertical-align: top;\n",
       "    }\n",
       "\n",
       "    .dataframe thead th {\n",
       "        text-align: right;\n",
       "    }\n",
       "</style>\n",
       "<table border=\"1\" class=\"dataframe\">\n",
       "  <thead>\n",
       "    <tr style=\"text-align: right;\">\n",
       "      <th></th>\n",
       "      <th>show_id</th>\n",
       "      <th>type</th>\n",
       "      <th>title</th>\n",
       "      <th>director</th>\n",
       "      <th>cast</th>\n",
       "      <th>country</th>\n",
       "      <th>date_added</th>\n",
       "      <th>release_year</th>\n",
       "      <th>rating</th>\n",
       "      <th>duration</th>\n",
       "      <th>listed_in</th>\n",
       "      <th>description_x</th>\n",
       "      <th>genres</th>\n",
       "      <th>imdb</th>\n",
       "      <th>runtime</th>\n",
       "      <th>description_y</th>\n",
       "      <th>stars</th>\n",
       "      <th>votes</th>\n",
       "      <th>original</th>\n",
       "    </tr>\n",
       "  </thead>\n",
       "  <tbody>\n",
       "    <tr>\n",
       "      <th>0</th>\n",
       "      <td>s1</td>\n",
       "      <td>Movie</td>\n",
       "      <td>dick johnson is dead</td>\n",
       "      <td>Kirsten Johnson</td>\n",
       "      <td>NaN</td>\n",
       "      <td>United States</td>\n",
       "      <td>September 25, 2021</td>\n",
       "      <td>2020</td>\n",
       "      <td>PG-13</td>\n",
       "      <td>90 min</td>\n",
       "      <td>Documentaries</td>\n",
       "      <td>As her father nears the end of his life, filmm...</td>\n",
       "      <td>Documentary, Drama</td>\n",
       "      <td>7.6</td>\n",
       "      <td>89 min</td>\n",
       "      <td>A daughter helps her father prepare for the en...</td>\n",
       "      <td>Kirsten Johnson, Michael Hilow, Ana Hoffman, D...</td>\n",
       "      <td>1,426</td>\n",
       "      <td>Netflix</td>\n",
       "    </tr>\n",
       "    <tr>\n",
       "      <th>1</th>\n",
       "      <td>s531</td>\n",
       "      <td>TV Show</td>\n",
       "      <td>richie rich</td>\n",
       "      <td>NaN</td>\n",
       "      <td>Jake Brennan, Joshua Carlon, Lauren Taylor, Je...</td>\n",
       "      <td>United States</td>\n",
       "      <td>July 6, 2021</td>\n",
       "      <td>2015</td>\n",
       "      <td>TV-G</td>\n",
       "      <td>2 Seasons</td>\n",
       "      <td>Kids' TV, TV Comedies</td>\n",
       "      <td>After turning his veggies into green energy, R...</td>\n",
       "      <td>Comedy</td>\n",
       "      <td>3.2</td>\n",
       "      <td>22 min</td>\n",
       "      <td>Richie Rich is just a normal kid, except he ha...</td>\n",
       "      <td>Jake Brennan, Lauren Taylor, Joshua Carlon, Je...</td>\n",
       "      <td>790</td>\n",
       "      <td>Netflix</td>\n",
       "    </tr>\n",
       "    <tr>\n",
       "      <th>2</th>\n",
       "      <td>s554</td>\n",
       "      <td>TV Show</td>\n",
       "      <td>mortel</td>\n",
       "      <td>NaN</td>\n",
       "      <td>Carl Malapa, Nemo Schiffman, Manon Bresch, Cor...</td>\n",
       "      <td>France</td>\n",
       "      <td>July 2, 2021</td>\n",
       "      <td>2019</td>\n",
       "      <td>TV-MA</td>\n",
       "      <td>2 Seasons</td>\n",
       "      <td>Crime TV Shows, International TV Shows, TV Dramas</td>\n",
       "      <td>After making a deal with a supernatural figure...</td>\n",
       "      <td>Horror, Sci-Fi</td>\n",
       "      <td>6.5</td>\n",
       "      <td>40 min</td>\n",
       "      <td>A group of French teenagers are bound together...</td>\n",
       "      <td>Carl Malapa, Némo Schiffman, Manon Bresch, Cor...</td>\n",
       "      <td>748</td>\n",
       "      <td>Netflix</td>\n",
       "    </tr>\n",
       "    <tr>\n",
       "      <th>3</th>\n",
       "      <td>s674</td>\n",
       "      <td>TV Show</td>\n",
       "      <td>no time for shame</td>\n",
       "      <td>NaN</td>\n",
       "      <td>Santiago Artemis</td>\n",
       "      <td>Argentina</td>\n",
       "      <td>June 19, 2021</td>\n",
       "      <td>2019</td>\n",
       "      <td>TV-MA</td>\n",
       "      <td>1 Season</td>\n",
       "      <td>International TV Shows, Reality TV, Spanish-La...</td>\n",
       "      <td>Follow Santiago Artemis, a Buenos Aires fashio...</td>\n",
       "      <td>Reality-TV</td>\n",
       "      <td>5.5</td>\n",
       "      <td>NaN</td>\n",
       "      <td>The story of Argentinian fashion designer Sant...</td>\n",
       "      <td>Edwin Salinas, Santiago Artemis</td>\n",
       "      <td>67</td>\n",
       "      <td>Netflix</td>\n",
       "    </tr>\n",
       "    <tr>\n",
       "      <th>4</th>\n",
       "      <td>s681</td>\n",
       "      <td>TV Show</td>\n",
       "      <td>the last dance</td>\n",
       "      <td>NaN</td>\n",
       "      <td>Michael Jordan, Scottie Pippen, Dennis Rodman</td>\n",
       "      <td>United States</td>\n",
       "      <td>June 19, 2021</td>\n",
       "      <td>2020</td>\n",
       "      <td>TV-MA</td>\n",
       "      <td>1 Season</td>\n",
       "      <td>Docuseries</td>\n",
       "      <td>This docuseries gives a definitive account of ...</td>\n",
       "      <td>Documentary, Biography, History</td>\n",
       "      <td>9.2</td>\n",
       "      <td>491 min</td>\n",
       "      <td>Charting the rise of the 1990's Chicago Bulls,...</td>\n",
       "      <td>Phil Jackson, Michael Jordan, David Aldridge, ...</td>\n",
       "      <td>71,228</td>\n",
       "      <td>Netflix</td>\n",
       "    </tr>\n",
       "  </tbody>\n",
       "</table>\n",
       "</div>"
      ],
      "text/plain": [
       "  show_id     type                 title         director  \\\n",
       "0      s1    Movie  dick johnson is dead  Kirsten Johnson   \n",
       "1    s531  TV Show           richie rich              NaN   \n",
       "2    s554  TV Show                mortel              NaN   \n",
       "3    s674  TV Show     no time for shame              NaN   \n",
       "4    s681  TV Show        the last dance              NaN   \n",
       "\n",
       "                                                cast        country  \\\n",
       "0                                                NaN  United States   \n",
       "1  Jake Brennan, Joshua Carlon, Lauren Taylor, Je...  United States   \n",
       "2  Carl Malapa, Nemo Schiffman, Manon Bresch, Cor...         France   \n",
       "3                                   Santiago Artemis      Argentina   \n",
       "4      Michael Jordan, Scottie Pippen, Dennis Rodman  United States   \n",
       "\n",
       "           date_added  release_year rating   duration  \\\n",
       "0  September 25, 2021          2020  PG-13     90 min   \n",
       "1        July 6, 2021          2015   TV-G  2 Seasons   \n",
       "2        July 2, 2021          2019  TV-MA  2 Seasons   \n",
       "3       June 19, 2021          2019  TV-MA   1 Season   \n",
       "4       June 19, 2021          2020  TV-MA   1 Season   \n",
       "\n",
       "                                           listed_in  \\\n",
       "0                                      Documentaries   \n",
       "1                              Kids' TV, TV Comedies   \n",
       "2  Crime TV Shows, International TV Shows, TV Dramas   \n",
       "3  International TV Shows, Reality TV, Spanish-La...   \n",
       "4                                         Docuseries   \n",
       "\n",
       "                                       description_x  \\\n",
       "0  As her father nears the end of his life, filmm...   \n",
       "1  After turning his veggies into green energy, R...   \n",
       "2  After making a deal with a supernatural figure...   \n",
       "3  Follow Santiago Artemis, a Buenos Aires fashio...   \n",
       "4  This docuseries gives a definitive account of ...   \n",
       "\n",
       "                            genres  imdb  runtime  \\\n",
       "0               Documentary, Drama   7.6   89 min   \n",
       "1                           Comedy   3.2   22 min   \n",
       "2                   Horror, Sci-Fi   6.5   40 min   \n",
       "3                       Reality-TV   5.5      NaN   \n",
       "4  Documentary, Biography, History   9.2  491 min   \n",
       "\n",
       "                                       description_y  \\\n",
       "0  A daughter helps her father prepare for the en...   \n",
       "1  Richie Rich is just a normal kid, except he ha...   \n",
       "2  A group of French teenagers are bound together...   \n",
       "3  The story of Argentinian fashion designer Sant...   \n",
       "4  Charting the rise of the 1990's Chicago Bulls,...   \n",
       "\n",
       "                                               stars   votes original  \n",
       "0  Kirsten Johnson, Michael Hilow, Ana Hoffman, D...   1,426  Netflix  \n",
       "1  Jake Brennan, Lauren Taylor, Joshua Carlon, Je...     790  Netflix  \n",
       "2  Carl Malapa, Némo Schiffman, Manon Bresch, Cor...     748  Netflix  \n",
       "3                    Edwin Salinas, Santiago Artemis      67  Netflix  \n",
       "4  Phil Jackson, Michael Jordan, David Aldridge, ...  71,228  Netflix  "
      ]
     },
     "execution_count": 18,
     "metadata": {},
     "output_type": "execute_result"
    }
   ],
   "source": [
    "merged_data = pd.merge(title, original, on = [\"title\", \"release_year\", \"type\"])\n",
    "merged_data.head()  #COnfirming that the merged worked and there are no repition of vlaue "
   ]
  },
  {
   "cell_type": "code",
   "execution_count": null,
   "metadata": {},
   "outputs": [],
   "source": []
  }
 ],
 "metadata": {
  "kernelspec": {
   "display_name": "Python 3",
   "language": "python",
   "name": "python3"
  },
  "language_info": {
   "codemirror_mode": {
    "name": "ipython",
    "version": 3
   },
   "file_extension": ".py",
   "mimetype": "text/x-python",
   "name": "python",
   "nbconvert_exporter": "python",
   "pygments_lexer": "ipython3",
   "version": "3.8.5"
  }
 },
 "nbformat": 4,
 "nbformat_minor": 4
}
